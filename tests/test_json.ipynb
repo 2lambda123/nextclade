{
 "cells": [
  {
   "cell_type": "code",
   "execution_count": 2,
   "metadata": {},
   "outputs": [
    {
     "name": "stdout",
     "output_type": "stream",
     "text": [
      "True\n"
     ]
    }
   ],
   "source": [
    "import json\n",
    "\n",
    "outfolder_name = \"out_flu_reversions\"\n",
    "  \n",
    "# JSON string\n",
    "json_original = outfolder_name +\"/\"+ \"nextclade.tree.json\" \n",
    "json_new = outfolder_name +\"/\"+ \"nextclade.tree.graph.json\" \n",
    "\n",
    "with open(json_original) as user_file:\n",
    "  file_original = user_file.read()\n",
    "parsed_original = json.loads(file_original)\n",
    "\n",
    "with open(json_new) as user_file:\n",
    "  file_new = user_file.read()\n",
    "parsed_new = json.loads(file_new)\n",
    "  \n",
    "def sorting(item):\n",
    "    if isinstance(item, dict):\n",
    "        return sorted((key, sorting(values)) for key, values in item.items())\n",
    "    if isinstance(item, list):\n",
    "        return sorted(sorting(x) for x in item)\n",
    "    else:\n",
    "        return item\n",
    "  \n",
    "  \n",
    "print(sorting(parsed_original['tree']) == sorting(parsed_new['tree']))"
   ]
  }
 ],
 "metadata": {
  "kernelspec": {
   "display_name": "Python 3",
   "language": "python",
   "name": "python3"
  },
  "language_info": {
   "codemirror_mode": {
    "name": "ipython",
    "version": 3
   },
   "file_extension": ".py",
   "mimetype": "text/x-python",
   "name": "python",
   "nbconvert_exporter": "python",
   "pygments_lexer": "ipython3",
   "version": "3.8.10"
  },
  "orig_nbformat": 4,
  "vscode": {
   "interpreter": {
    "hash": "916dbcbb3f70747c44a77c7bcd40155683ae19c65e1c03b4aa3499c5328201f1"
   }
  }
 },
 "nbformat": 4,
 "nbformat_minor": 2
}
